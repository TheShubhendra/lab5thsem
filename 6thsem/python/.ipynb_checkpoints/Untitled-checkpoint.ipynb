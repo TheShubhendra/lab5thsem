{
 "cells": [
  {
   "cell_type": "code",
   "execution_count": 10,
   "id": "17ca70a5-2ba0-426e-bc77-2524e50ecf89",
   "metadata": {},
   "outputs": [
    {
     "name": "stdout",
     "output_type": "stream",
     "text": [
      "I my name is Shubhenra. I am 16 years old\n",
      "<__main__.Student object at 0x7fc849ae84c0>\n",
      "Bro I am going away\n"
     ]
    }
   ],
   "source": [
    "class Student:\n",
    "    \"\"\"This class represents a student\"\"\"\n",
    "    def __init__(self, name: str, age: int):\n",
    "        self.name = name\n",
    "        self.age = age\n",
    "\n",
    "    def talk(self):\n",
    "        print(f\"I my name is {self.name}. I am {self.age} years old\")\n",
    "\n",
    "    def __del__(self):\n",
    "        print(\"Bro I am going away\")\n",
    "\n",
    "    def __repr__(self):\n",
    "\n",
    "\n",
    "\n",
    "s1 = Student(\"Shubhenra\", 16)\n",
    "s1.talk()\n",
    "print(s1)\n",
    "del s1"
   ]
  },
  {
   "cell_type": "code",
   "execution_count": 14,
   "id": "7a132d5e-9626-47b9-ae55-3ce91b7bf8d6",
   "metadata": {},
   "outputs": [
    {
     "name": "stdout",
     "output_type": "stream",
     "text": [
      "Playing chhoti bahu on Samsung s5 TV\n"
     ]
    }
   ],
   "source": [
    "class Telivision:\n",
    "    \"Class for Telivision\"\n",
    "    def __init__(self, model, weight, resolution):\n",
    "        self.model  = model\n",
    "        self.weight = weight\n",
    "        self.resolution = resolution\n",
    "\n",
    "    def play(self):\n",
    "        print(f\"Playing chhoti bahu on {self.model} TV\")\n",
    "\n",
    "t = Telivision(\"Samsung s5\", 34, 1080)\n",
    "t.play()"
   ]
  }
 ],
 "metadata": {
  "kernelspec": {
   "display_name": "Python 3 (ipykernel)",
   "language": "python",
   "name": "python3"
  },
  "language_info": {
   "codemirror_mode": {
    "name": "ipython",
    "version": 3
   },
   "file_extension": ".py",
   "mimetype": "text/x-python",
   "name": "python",
   "nbconvert_exporter": "python",
   "pygments_lexer": "ipython3",
   "version": "3.8.10"
  }
 },
 "nbformat": 4,
 "nbformat_minor": 5
}

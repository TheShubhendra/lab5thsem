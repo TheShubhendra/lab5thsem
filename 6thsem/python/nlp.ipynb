{
 "cells": [
  {
   "cell_type": "code",
   "execution_count": 1,
   "id": "4a0d870c-305c-4d8e-8964-67db94c0a105",
   "metadata": {},
   "outputs": [],
   "source": [
    "from textblob import TextBlob"
   ]
  },
  {
   "cell_type": "code",
   "execution_count": 2,
   "id": "0311c163-d617-4cea-9fe3-1882d45e8727",
   "metadata": {},
   "outputs": [
    {
     "data": {
      "text/plain": [
       "TextBlob(\"Today is beautiful day. Tomorrow looks like bad weather\")"
      ]
     },
     "execution_count": 2,
     "metadata": {},
     "output_type": "execute_result"
    }
   ],
   "source": [
    "text = \"Today is beautiful day. Tomorrow looks like bad weather\"\n",
    "blob = TextBlob(text)\n",
    "blob"
   ]
  },
  {
   "cell_type": "code",
   "execution_count": 3,
   "id": "32ce8d2b-2e7c-40ac-9ea3-4a8b7e146b79",
   "metadata": {},
   "outputs": [
    {
     "name": "stdout",
     "output_type": "stream",
     "text": [
      "[Sentence(\"Today is beautiful day.\"), Sentence(\"Tomorrow looks like bad weather\")]\n",
      "['Today', 'is', 'beautiful', 'day', 'Tomorrow', 'looks', 'like', 'bad', 'weather']\n"
     ]
    }
   ],
   "source": [
    "print(blob.sentences)\n",
    "print(blob.words)\n",
    "blob.tags\n",
    "blob.noun_phrases"
   ]
  },
  {
   "cell_type": "code",
   "execution_count": 20,
   "id": "12a923c1-533f-4c81-8007-b9ee6f3149bb",
   "metadata": {},
   "outputs": [
    {
     "data": {
      "text/plain": [
       "(0.075, 0.833)"
      ]
     },
     "execution_count": 20,
     "metadata": {},
     "output_type": "execute_result"
    }
   ],
   "source": [
    "%precision 3\n",
    "blob.sentiment.polarity, blob.sentiment.subjectivity"
   ]
  },
  {
   "cell_type": "code",
   "execution_count": 22,
   "id": "42e03454-857e-4eb2-a37d-e0c3fff46e18",
   "metadata": {},
   "outputs": [
    {
     "name": "stdout",
     "output_type": "stream",
     "text": [
      "Sentiment(polarity=0.85, subjectivity=1.0)\n",
      "Sentiment(polarity=-0.6999999999999998, subjectivity=0.6666666666666666)\n"
     ]
    }
   ],
   "source": [
    "for sentence in blob.sentences:\n",
    "    print(sentence.sentiment)"
   ]
  },
  {
   "cell_type": "code",
   "execution_count": 23,
   "id": "0c839b1b-0056-4860-a4d7-ae796e18c802",
   "metadata": {},
   "outputs": [
    {
     "data": {
      "text/plain": [
       "Sentiment(polarity=-0.35, subjectivity=0.6000000000000001)"
      ]
     },
     "execution_count": 23,
     "metadata": {},
     "output_type": "execute_result"
    }
   ],
   "source": [
    "TextBlob(\"The food is not good.\").sentiment"
   ]
  },
  {
   "cell_type": "code",
   "execution_count": 25,
   "id": "9bb5cf8a-4806-4308-b9ec-e6ef8d3ce3dd",
   "metadata": {},
   "outputs": [
    {
     "data": {
      "text/plain": [
       "Sentiment(polarity=0.3499999999999999, subjectivity=0.6666666666666666)"
      ]
     },
     "execution_count": 25,
     "metadata": {},
     "output_type": "execute_result"
    }
   ],
   "source": [
    "TextBlob(\"The movie was not bad.\").sentiment"
   ]
  },
  {
   "cell_type": "code",
   "execution_count": 24,
   "id": "1e118f9d-b718-4168-b55f-2f88d32bd30c",
   "metadata": {},
   "outputs": [
    {
     "data": {
      "text/plain": [
       "Sentiment(polarity=1.0, subjectivity=1.0)"
      ]
     },
     "execution_count": 24,
     "metadata": {},
     "output_type": "execute_result"
    }
   ],
   "source": [
    "TextBlob(\"The movie was excellent.\").sentiment"
   ]
  },
  {
   "cell_type": "code",
   "execution_count": 58,
   "id": "c491cd14-8522-4a20-a0d4-f549e73e3146",
   "metadata": {
    "scrolled": true
   },
   "outputs": [
    {
     "data": {
      "text/plain": [
       "Sentiment(polarity=0.0, subjectivity=0.0)"
      ]
     },
     "execution_count": 58,
     "metadata": {},
     "output_type": "execute_result"
    }
   ],
   "source": [
    "TextBlob(\"\").sentiment"
   ]
  },
  {
   "cell_type": "code",
   "execution_count": 59,
   "id": "726b0636-a7c6-49b8-94a3-5f97aa70e9ca",
   "metadata": {},
   "outputs": [],
   "source": [
    "from textblob.sentiments import NaiveBayesAnalyzer\n",
    "blob = TextBlob(\"Today is beautiful day. Tomorrow is bad weather\", analyzer=NaiveBayesAnalyzer())"
   ]
  },
  {
   "cell_type": "code",
   "execution_count": 60,
   "id": "0a3ac816-49ff-4512-9764-a0a43062fcb6",
   "metadata": {},
   "outputs": [
    {
     "data": {
      "text/plain": [
       "Sentiment(classification='pos', p_pos=0.621155830553513, p_neg=0.3788441694464861)"
      ]
     },
     "execution_count": 60,
     "metadata": {},
     "output_type": "execute_result"
    }
   ],
   "source": []
  },
  {
   "cell_type": "code",
   "execution_count": 68,
   "id": "e2b76370-c380-4186-b864-5f220ea7ec49",
   "metadata": {},
   "outputs": [
    {
     "data": {
      "text/plain": [
       "Sentiment(classification='neg', p_pos=0.38437321387281137, p_neg=0.6156267861271888)"
      ]
     },
     "execution_count": 68,
     "metadata": {},
     "output_type": "execute_result"
    }
   ],
   "source": [
    "TextBlob(\"The movie was excellent\", analyzer=NaiveBayesAnalyzer()).sentiment"
   ]
  },
  {
   "cell_type": "code",
   "execution_count": 97,
   "id": "28c41b42-ff58-467f-abf9-c39a0b564c93",
   "metadata": {},
   "outputs": [
    {
     "data": {
      "text/plain": [
       "('es', 'fr', 'hi')"
      ]
     },
     "execution_count": 97,
     "metadata": {},
     "output_type": "execute_result"
    }
   ],
   "source": [
    "from langdetect import detect\n",
    "detect(\"Un dos tres\"), detect(\"C'est la cheval\"), detect('पूछत| हूं नभ धरा से - क्या नहीं ऋतुराज आया?')"
   ]
  },
  {
   "cell_type": "code",
   "execution_count": 101,
   "id": "b0c9e611-7f8d-48a5-a935-7cdec9cbd1d9",
   "metadata": {},
   "outputs": [
    {
     "name": "stdout",
     "output_type": "stream",
     "text": [
      "Requirement already satisfied: deep_translator in /home/student/.local/lib/python3.8/site-packages (1.11.4)\n",
      "Requirement already satisfied: requests<3.0.0,>=2.23.0 in /home/student/.local/lib/python3.8/site-packages (from deep_translator) (2.32.3)\n",
      "Requirement already satisfied: beautifulsoup4<5.0.0,>=4.9.1 in /home/student/.local/lib/python3.8/site-packages (from deep_translator) (4.13.3)\n",
      "Requirement already satisfied: urllib3<3,>=1.21.1 in /usr/lib/python3/dist-packages (from requests<3.0.0,>=2.23.0->deep_translator) (1.25.8)\n",
      "Requirement already satisfied: idna<4,>=2.5 in /home/student/.local/lib/python3.8/site-packages (from requests<3.0.0,>=2.23.0->deep_translator) (3.10)\n",
      "Requirement already satisfied: charset-normalizer<4,>=2 in /home/student/.local/lib/python3.8/site-packages (from requests<3.0.0,>=2.23.0->deep_translator) (3.3.2)\n",
      "Requirement already satisfied: certifi>=2017.4.17 in /home/student/.local/lib/python3.8/site-packages (from requests<3.0.0,>=2.23.0->deep_translator) (2025.1.31)\n",
      "Requirement already satisfied: soupsieve>1.2 in /usr/lib/python3/dist-packages (from beautifulsoup4<5.0.0,>=4.9.1->deep_translator) (1.9.5)\n",
      "Requirement already satisfied: typing-extensions>=4.0.0 in /home/student/.local/lib/python3.8/site-packages (from beautifulsoup4<5.0.0,>=4.9.1->deep_translator) (4.12.2)\n"
     ]
    }
   ],
   "source": [
    "!pip install deep_translator"
   ]
  },
  {
   "cell_type": "code",
   "execution_count": 111,
   "id": "49e3b1a5-cd7f-48f9-952d-2f5ab96618ec",
   "metadata": {},
   "outputs": [
    {
     "data": {
      "text/plain": [
       "'हमरा से बहस मत करीं ना त हम तोहरा के टेबुल से ब्लैक होल के ओर फेंक देब।'"
      ]
     },
     "execution_count": 111,
     "metadata": {},
     "output_type": "execute_result"
    }
   ],
   "source": [
    "from deep_translator import GoogleTranslator\n",
    "from langdetect import detect\n",
    "text = \"Don't argue with me otherwise I will throw you from the table towards black hole.\"\n",
    "source = detect(text)\n",
    "spanish = GoogleTranslator(source=source, target='bho').translate(text)\n",
    "spanish"
   ]
  },
  {
   "cell_type": "code",
   "execution_count": 114,
   "id": "391d23d9-8a73-46ae-9c70-5b8bbbfd8c11",
   "metadata": {},
   "outputs": [
    {
     "data": {
      "text/plain": [
       "[('they', 0.571), ('their', 0.429)]"
      ]
     },
     "execution_count": 114,
     "metadata": {},
     "output_type": "execute_result"
    }
   ],
   "source": [
    "from textblob import  Word\n",
    "word = Word(\"theyr\")\n",
    "word.spellcheck()"
   ]
  },
  {
   "cell_type": "code",
   "execution_count": 117,
   "id": "af1e2f33-8d5d-4315-983e-a49827db5288",
   "metadata": {},
   "outputs": [
    {
     "data": {
      "text/plain": [
       "TextBlob(\"I was going one\")"
      ]
     },
     "execution_count": 117,
     "metadata": {},
     "output_type": "execute_result"
    }
   ],
   "source": [
    "from textblob import TextBlob\n",
    "\n",
    "blob = TextBlob(\"I wal going hone\")\n",
    "blob.correct()"
   ]
  },
  {
   "cell_type": "code",
   "execution_count": 119,
   "id": "74f13698-88b6-4897-85a3-ee1b7ff978b8",
   "metadata": {},
   "outputs": [
    {
     "data": {
      "text/plain": [
       "TextBlob(\"I can not believe I misspelled words \")"
      ]
     },
     "execution_count": 119,
     "metadata": {},
     "output_type": "execute_result"
    }
   ],
   "source": [
    "blob = TextBlob(\"I can not belive I misspleld words \")\n",
    "blob.correct()"
   ]
  },
  {
   "cell_type": "code",
   "execution_count": 128,
   "id": "d15d3adf-dbf0-478d-b580-0329ac1f04a0",
   "metadata": {},
   "outputs": [
    {
     "data": {
      "text/plain": [
       "('varieti', 'variety')"
      ]
     },
     "execution_count": 128,
     "metadata": {},
     "output_type": "execute_result"
    }
   ],
   "source": [
    "from textblob import Word\n",
    "word = Word(\"varieties\")\n",
    "word.stem(), word.lemmatize()"
   ]
  }
 ],
 "metadata": {
  "kernelspec": {
   "display_name": "Python 3 (ipykernel)",
   "language": "python",
   "name": "python3"
  },
  "language_info": {
   "codemirror_mode": {
    "name": "ipython",
    "version": 3
   },
   "file_extension": ".py",
   "mimetype": "text/x-python",
   "name": "python",
   "nbconvert_exporter": "python",
   "pygments_lexer": "ipython3",
   "version": "3.8.10"
  }
 },
 "nbformat": 4,
 "nbformat_minor": 5
}

{
 "cells": [
  {
   "cell_type": "code",
   "execution_count": null,
   "id": "17ca70a5-2ba0-426e-bc77-2524e50ecf89",
   "metadata": {},
   "outputs": [],
   "source": [
    "class Student:\n",
    "    \"\"\"This class represents a student\"\"\"\n",
    "    def __init__(self, name: str, age: int, marks):\n",
    "        print(\"Constructo\")\n",
    "        self.name = name\n",
    "        self.age = age\n",
    "        self.marks = marks\n",
    "        print(id(self))\n",
    "\n",
    "    def talk(self):\n",
    "        print(f\"My name is {self.name}. I am {self.age} years old\")\n",
    "\n",
    "    def __del__(self):\n",
    "        print(\"Bro I am going away\")\n",
    "\n",
    "\n",
    "\n",
    "s1 = Student(\"Shubhenra\", 16, 4.3)\n",
    "s2 = Student(\"Bapi\", 20, 343.3)\n",
    "s2.x = 4\n",
    "\n",
    "s1.talk()\n",
    "s2.talk\n",
    "del s2.age\n",
    "print(s2.__dict__)\n"
   ]
  },
  {
   "cell_type": "code",
   "execution_count": null,
   "id": "7a132d5e-9626-47b9-ae55-3ce91b7bf8d6",
   "metadata": {},
   "outputs": [],
   "source": [
    "class Telivision:\n",
    "    \"Class for Telivision\"\n",
    "    def __init__(self, model, weight, resolution):\n",
    "        self.model  = model\n",
    "        self.weight = weight\n",
    "        self.resolution = resolution\n",
    "        self._volume = 50\n",
    "\n",
    "    @property\n",
    "    def volume(self):\n",
    "        return self._volume\n",
    "\n",
    "    @volume.setter\n",
    "    def volume(self, volume):\n",
    "        self._volume = volume\n",
    "    \n",
    "    def play(self):\n",
    "        print(f\"Playing chhoti bahu on {self.model} TV\")\n",
    "\n",
    "t = Telivision(\"Samsung s5\", 34, 1080)\n",
    "t.play()\n",
    "t.volume = 100\n",
    "print(t.volume)"
   ]
  },
  {
   "cell_type": "code",
   "execution_count": null,
   "id": "8443b8a1-b53f-4f80-aa16-daf7b0421ce6",
   "metadata": {
    "scrolled": true
   },
   "outputs": [],
   "source": [
    "class Test:\n",
    "    def __init__(self):\n",
    "        self.a = 10\n",
    "        self.b = 20\n",
    "\n",
    "t1 = Test()\n",
    "t1.a = 100\n",
    "\n",
    "print(t1.__dict__)"
   ]
  },
  {
   "cell_type": "code",
   "execution_count": null,
   "id": "fbc78427-0acf-4d9b-bc42-141353f7a03d",
   "metadata": {},
   "outputs": [],
   "source": [
    "class Student:\n",
    "    def __init__(self, name, std):\n",
    "        self.__name = name\n",
    "        self.std = std\n",
    "    \n",
    "    def __str__(self):\n",
    "        return self.__name + \" \" + str(self.std)\n",
    "    \n",
    "    def __repr__(self):\n",
    "        return f\"{self.__name=} {self.std=}\"\n",
    "    \n",
    "    def __func__(self):\n",
    "        return self.std\n",
    "    \n",
    "    def _(self):\n",
    "        return self.name\n",
    "    \n",
    "s1 = Student(\"Shubh\", 11)\n",
    "s2 = Student(\"Bapi\", 10)\n",
    "print(s1)\n",
    "print(s1._f())\n",
    "\n"
   ]
  },
  {
   "cell_type": "code",
   "execution_count": null,
   "id": "c2bff5ca",
   "metadata": {},
   "outputs": [],
   "source": [
    "class Student:\n",
    "    def __init__(self, std):\n",
    "        # self.__name = None\n",
    "        self.std = std\n",
    "    \n",
    "    def getName(self):\n",
    "        return self.__name\n",
    "    \n",
    "    def setName(self, name):\n",
    "        self.__name = name\n",
    "\n",
    "    def setMarks(self, marks):\n",
    "        self.__marks = marks\n",
    "\n",
    "    def getMarks(self):\n",
    "        return self.__marks\n",
    "    \n",
    "    def __str__(self):\n",
    "        return f\"Student Name: {self.__name}, Marks: {self.__marks}\"\n",
    "\n",
    "n = int(input(\"Enter Number of students\"))\n",
    "\n",
    "for i in range(n):\n",
    "    name = input(\"Enter Name of Student\")\n",
    "    marks = int(input(\"Enter Marks of Student\"))\n",
    "    s1 = Student()\n",
    "    s1.setName(name)\n",
    "    s1.setMarks(marks)\n",
    "    print(s1)\n"
   ]
  },
  {
   "cell_type": "code",
   "execution_count": null,
   "id": "d91dc0ab",
   "metadata": {},
   "outputs": [],
   "source": [
    "from collections import namedtuple\n",
    "\n",
    "help(namedtuple)"
   ]
  },
  {
   "cell_type": "code",
   "execution_count": 1,
   "id": "ce4b6ace",
   "metadata": {},
   "outputs": [
    {
     "name": "stdout",
     "output_type": "stream",
     "text": [
      "Student Name: shubh, Marks: 23\n",
      "Student Name: shubh, Marks: 23\n"
     ]
    }
   ],
   "source": [
    "class Student:\n",
    " \n",
    "    \n",
    "    @property\n",
    "    def name(self):\n",
    "        return self.__name\n",
    "    \n",
    "    @name.setter\n",
    "    def name(self, name):\n",
    "        self.__name = name\n",
    "\n",
    "    @property\n",
    "    def marks(self):\n",
    "        return self.__marks\n",
    "\n",
    "    @marks.setter\n",
    "    def marks(self, marks):\n",
    "        self.__marks = marks\n",
    "    \n",
    "    def __str__(self):\n",
    "        return f\"Student Name: {self.__name}, Marks: {self.__marks}\"\n",
    "\n",
    "n = 2 #int(input(\"Enter Number of students\"))\n",
    "\n",
    "for i in range(n):\n",
    "    name = \"shubh\" #input(\"Enter Name of Student\")\n",
    "    marks = 23 #int(input(\"Enter Marks of Student\"))\n",
    "    s1 = Student()\n",
    "    s1.name = name\n",
    "    s1.marks = marks\n",
    "    print(s1)\n"
   ]
  },
  {
   "cell_type": "code",
   "execution_count": 3,
   "id": "282eb857",
   "metadata": {},
   "outputs": [
    {
     "name": "stdout",
     "output_type": "stream",
     "text": [
      "Parent method\n",
      "Child method\n"
     ]
    }
   ],
   "source": [
    "class P:\n",
    "    def m1(self):\n",
    "        print(\"Parent method\")\n",
    "\n",
    "class C(P):\n",
    "    def m2(self):\n",
    "        print(\"Child method\")\n",
    "\n",
    "c = C()\n",
    "c.m1()\n",
    "c.m2()"
   ]
  },
  {
   "cell_type": "code",
   "execution_count": 5,
   "id": "e77272f8",
   "metadata": {},
   "outputs": [
    {
     "name": "stdout",
     "output_type": "stream",
     "text": [
      "Parent method\n",
      "Child method\n",
      "Grand child\n"
     ]
    }
   ],
   "source": [
    "class P:\n",
    "    def m1(self):\n",
    "        print(\"Parent method\")\n",
    "\n",
    "class C(P):\n",
    "    def m2(self):\n",
    "        print(\"Child method\")\n",
    "\n",
    "class GC(C):\n",
    "    def m3(self):\n",
    "        print(\"Grand child\")\n",
    "\n",
    "c = GC()\n",
    "c.m1()\n",
    "c.m2()\n",
    "c.m3()"
   ]
  },
  {
   "cell_type": "code",
   "execution_count": 11,
   "id": "5e892d7e",
   "metadata": {},
   "outputs": [
    {
     "name": "stdout",
     "output_type": "stream",
     "text": [
      "Parent 2\n",
      "Parent 2\n",
      "Parent 2\n"
     ]
    }
   ],
   "source": [
    "class P1:\n",
    "    def m2(self):\n",
    "        print(\"Parent 1\")\n",
    "\n",
    "class P2():\n",
    "    def m2(self):\n",
    "        print(\"Parent 2\")\n",
    "\n",
    "class C(P2, P1):\n",
    "    def m3(self):\n",
    "        print(\" child\")\n",
    "\n",
    "c = C()\n",
    "c.m2()\n",
    "c.m2()\n",
    "c.m2()"
   ]
  }
 ],
 "metadata": {
  "kernelspec": {
   "display_name": "Python 3",
   "language": "python",
   "name": "python3"
  },
  "language_info": {
   "codemirror_mode": {
    "name": "ipython",
    "version": 3
   },
   "file_extension": ".py",
   "mimetype": "text/x-python",
   "name": "python",
   "nbconvert_exporter": "python",
   "pygments_lexer": "ipython3",
   "version": "3.8.10"
  }
 },
 "nbformat": 4,
 "nbformat_minor": 5
}

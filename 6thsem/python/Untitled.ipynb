{
 "cells": [
  {
   "cell_type": "code",
   "execution_count": 9,
   "id": "17ca70a5-2ba0-426e-bc77-2524e50ecf89",
   "metadata": {},
   "outputs": [
    {
     "name": "stdout",
     "output_type": "stream",
     "text": [
      "Constructo\n",
      "140044561016096\n",
      "Bro I am going away\n",
      "Constructo\n",
      "140044561018832\n",
      "My name is Shubhenra. I am 16 years old\n",
      "{'name': 'Bapi', 'marks': 343.3, 'x': 4}\n"
     ]
    }
   ],
   "source": [
    "class Student:\n",
    "    \"\"\"This class represents a student\"\"\"\n",
    "    def __init__(self, name: str, age: int, marks):\n",
    "        print(\"Constructo\")\n",
    "        self.name = name\n",
    "        self.age = age\n",
    "        self.marks = marks\n",
    "        print(id(self))\n",
    "\n",
    "    def talk(self):\n",
    "        print(f\"My name is {self.name}. I am {self.age} years old\")\n",
    "\n",
    "    def __del__(self):\n",
    "        print(\"Bro I am going away\")\n",
    "\n",
    "\n",
    "\n",
    "s1 = Student(\"Shubhenra\", 16, 4.3)\n",
    "s2 = Student(\"Bapi\", 20, 343.3)\n",
    "s2.x = 4\n",
    "\n",
    "s1.talk()\n",
    "s2.talk\n",
    "del s2.age\n",
    "print(s2.__dict__)\n"
   ]
  },
  {
   "cell_type": "code",
   "execution_count": 2,
   "id": "7a132d5e-9626-47b9-ae55-3ce91b7bf8d6",
   "metadata": {},
   "outputs": [
    {
     "name": "stdout",
     "output_type": "stream",
     "text": [
      "Playing chhoti bahu on Samsung s5 TV\n",
      "100\n"
     ]
    }
   ],
   "source": [
    "class Telivision:\n",
    "    \"Class for Telivision\"\n",
    "    def __init__(self, model, weight, resolution):\n",
    "        self.model  = model\n",
    "        self.weight = weight\n",
    "        self.resolution = resolution\n",
    "        self._volume = 50\n",
    "\n",
    "    @property\n",
    "    def volume(self):\n",
    "        return self._volume\n",
    "\n",
    "    @volume.setter\n",
    "    def volume(self, volume):\n",
    "        self._volume = volume\n",
    "    \n",
    "    def play(self):\n",
    "        print(f\"Playing chhoti bahu on {self.model} TV\")\n",
    "\n",
    "t = Telivision(\"Samsung s5\", 34, 1080)\n",
    "t.play()\n",
    "t.volume = 100\n",
    "print(t.volume)"
   ]
  },
  {
   "cell_type": "code",
   "execution_count": 13,
   "id": "8443b8a1-b53f-4f80-aa16-daf7b0421ce6",
   "metadata": {
    "scrolled": true
   },
   "outputs": [
    {
     "name": "stdout",
     "output_type": "stream",
     "text": [
      "{'a': 100, 'b': 20}\n"
     ]
    }
   ],
   "source": [
    "class Test:\n",
    "    def __init__(self):\n",
    "        self.a = 10\n",
    "        self.b = 20\n",
    "\n",
    "t1 = Test()\n",
    "t1.a = 100\n",
    "\n",
    "print(t1.__dict__)"
   ]
  },
  {
   "cell_type": "code",
   "execution_count": null,
   "id": "fbc78427-0acf-4d9b-bc42-141353f7a03d",
   "metadata": {},
   "outputs": [],
   "source": []
  }
 ],
 "metadata": {
  "kernelspec": {
   "display_name": "Python 3 (ipykernel)",
   "language": "python",
   "name": "python3"
  },
  "language_info": {
   "codemirror_mode": {
    "name": "ipython",
    "version": 3
   },
   "file_extension": ".py",
   "mimetype": "text/x-python",
   "name": "python",
   "nbconvert_exporter": "python",
   "pygments_lexer": "ipython3",
   "version": "3.8.10"
  }
 },
 "nbformat": 4,
 "nbformat_minor": 5
}

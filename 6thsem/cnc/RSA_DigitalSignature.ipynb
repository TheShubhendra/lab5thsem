{
 "cells": [
  {
   "cell_type": "code",
   "execution_count": null,
   "metadata": {
    "id": "m9GATtIrYiHZ"
   },
   "outputs": [],
   "source": [
    "import math\n",
    "import random"
   ]
  },
  {
   "cell_type": "code",
   "execution_count": null,
   "metadata": {
    "id": "EXzNK9TtYW5k"
   },
   "outputs": [],
   "source": [
    "def keyGeneration():\n",
    "  p=int(input('Enter 1st large prime p:'))                  # input the prime p\n",
    "  q=int(input('Enter 2nd large prime q:'))                  # input the prime q\n",
    "  n=p*q                                                     # compute n\n",
    "  phi_n=(p-1)*(q-1)                                         # compute phi_n\n",
    "  e=int(input('Randomly choose e between 1 and phi_n:'))\n",
    "  while(math.gcd(e,phi_n)!=1 and (1<e and e<phi_n)):        # This loop randomly choose e between 1 and phi_n until it is coprime to phi_n\n",
    "    e=int(input('Randomly choose e between 1 and phi_n:'))\n",
    "\n",
    "  k=random.randint(1,1000)\n",
    "  while((k*phi_n+1)%e != 0):                                # This loop randomly select constant k until e properly divides k*phi_n+1\n",
    "    k=random.randint(1,1000)\n",
    "  d=int((k*phi_n+1)/e)                                     # Compute d\n",
    "\n",
    "  return e,n,d"
   ]
  },
  {
   "cell_type": "code",
   "execution_count": null,
   "metadata": {
    "id": "HSTFd3D1jgJf"
   },
   "outputs": [],
   "source": [
    "def generate_signature(M,d,n):\n",
    "  S=pow(M,d)%n\n",
    "  return S"
   ]
  },
  {
   "cell_type": "code",
   "execution_count": null,
   "metadata": {
    "id": "yu4OeHHVj_ps"
   },
   "outputs": [],
   "source": [
    "def verify_signature(S,M,e,n):\n",
    "  M1=pow(S,e)%n\n",
    "  print('The receiver is now verifying..... It generated the message M1=',M1)\n",
    "  if M == M1:\n",
    "    return True\n",
    "  return False"
   ]
  },
  {
   "cell_type": "code",
   "execution_count": null,
   "metadata": {
    "colab": {
     "base_uri": "https://localhost:8080/"
    },
    "id": "lmOD4G5NcewS",
    "outputId": "86421a3a-1c75-40e2-bcf6-d0f4c8498a9b"
   },
   "outputs": [
    {
     "name": "stdout",
     "output_type": "stream",
     "text": [
      "Enter 1st large prime p:823\n",
      "Enter 2nd large prime q:953\n",
      "Randomly choose e between 1 and phi_n:313\n",
      "e= 313 n= 784319 d= 942553\n"
     ]
    }
   ],
   "source": [
    "e=n=d=0\n",
    "e,n,d = keyGeneration()\n",
    "print('e=',e,'n=',n,'d=',d)"
   ]
  },
  {
   "cell_type": "code",
   "execution_count": null,
   "metadata": {
    "colab": {
     "base_uri": "https://localhost:8080/"
    },
    "id": "k1_uYNmskMKz",
    "outputId": "ff9375b4-fdcb-4faf-f2c6-79d51e399707"
   },
   "outputs": [
    {
     "name": "stdout",
     "output_type": "stream",
     "text": [
      "Enter message M to sign:19070\n",
      "Signature generated\n",
      "Sending signature S= 561738  and message M= 19070\n",
      "The receiver is now verifying..... It generated the message M1= 19070\n",
      "Message Accepted...\n"
     ]
    }
   ],
   "source": [
    "M=int(input('Enter message M to sign:'))\n",
    "S=generate_signature(M,e,n)\n",
    "print('Signature generated')\n",
    "print('Sending signature S=',S,' and message M=',M)\n",
    "res=verify_signature(S,M,d,n)\n",
    "if res==True:\n",
    "  print('Message Accepted...')\n",
    "else:\n",
    "  print('Message Rejected...')"
   ]
  }
 ],
 "metadata": {
  "colab": {
   "provenance": []
  },
  "kernelspec": {
   "display_name": "Python 3 (ipykernel)",
   "language": "python",
   "name": "python3"
  },
  "language_info": {
   "codemirror_mode": {
    "name": "ipython",
    "version": 3
   },
   "file_extension": ".py",
   "mimetype": "text/x-python",
   "name": "python",
   "nbconvert_exporter": "python",
   "pygments_lexer": "ipython3",
   "version": "3.8.10"
  }
 },
 "nbformat": 4,
 "nbformat_minor": 4
}

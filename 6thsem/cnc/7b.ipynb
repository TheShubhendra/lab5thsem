{
 "cells": [
  {
   "cell_type": "code",
   "execution_count": null,
   "id": "54e85cf7-9b73-4139-a5c3-ca0644b7142c",
   "metadata": {},
   "outputs": [],
   "source": [
    "import random\n",
    "import math"
   ]
  },
  {
   "cell_type": "code",
   "execution_count": 1,
   "id": "408d71be-621d-4258-b368-64a8b9b1b6d6",
   "metadata": {},
   "outputs": [],
   "source": [
    "def isPrime(n):\n",
    "    for i in range(2, int(math.sqrt(n)) + 1):\n",
    "        if n % i == 0:\n",
    "            return False\n",
    "    return True"
   ]
  },
  {
   "cell_type": "code",
   "execution_count": null,
   "id": "03258184-2c18-4eb0-94cc-35a881e6dfbf",
   "metadata": {},
   "outputs": [],
   "source": [
    "def getPrimeNumber(r1, r2):\n",
    "    while True:\n",
    "        n = random.randint(r1, r2)\n",
    "        if isPrime(n):\n",
    "            return n"
   ]
  },
  {
   "cell_type": "code",
   "execution_count": null,
   "id": "2fb44db7-2e74-4147-96e9-30a8bcd8e002",
   "metadata": {},
   "outputs": [],
   "source": [
    "x = random.randint(2, p)\n",
    "R1 = pow(g,x) % p\n",
    "print('Alice choosen a large random number x=',x,' and computed R1=',R1)"
   ]
  },
  {
   "cell_type": "code",
   "execution_count": null,
   "id": "ed1d6216-eade-4f38-b473-125b9068b726",
   "metadata": {},
   "outputs": [],
   "source": [
    "y = random.randint(2, p)\n",
    "R2 = pow(g,y) % p\n",
    "print('Bob choosen a large random number y=',y,' and computed R2=',R2)"
   ]
  },
  {
   "cell_type": "code",
   "execution_count": null,
   "id": "bc0a4724-57f7-46f4-82d0-e4b2dff4715d",
   "metadata": {},
   "outputs": [],
   "source": [
    "K_Alice = pow(R2,x) % p\n",
    "K_Bob   = pow(R1,y) % p\n",
    "print('Alice\\'s Computed Shared Key is:',K_Alice)\n",
    "print('Bob\\'s   Computed Shared Key is:',K_Bob)\n",
    "\n",
    "if K_Alice == K_Bob:\n",
    "  print('Key Exchange Successful...')\n",
    "else:\n",
    "  print('Key Exchange not Successful...')"
   ]
  }
 ],
 "metadata": {
  "kernelspec": {
   "display_name": "Python 3 (ipykernel)",
   "language": "python",
   "name": "python3"
  },
  "language_info": {
   "codemirror_mode": {
    "name": "ipython",
    "version": 3
   },
   "file_extension": ".py",
   "mimetype": "text/x-python",
   "name": "python",
   "nbconvert_exporter": "python",
   "pygments_lexer": "ipython3",
   "version": "3.8.10"
  }
 },
 "nbformat": 4,
 "nbformat_minor": 5
}

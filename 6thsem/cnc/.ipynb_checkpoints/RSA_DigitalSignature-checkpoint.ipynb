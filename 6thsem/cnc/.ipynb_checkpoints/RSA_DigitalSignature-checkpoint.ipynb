{
  "nbformat": 4,
  "nbformat_minor": 0,
  "metadata": {
    "colab": {
      "provenance": []
    },
    "kernelspec": {
      "name": "python3",
      "display_name": "Python 3"
    },
    "language_info": {
      "name": "python"
    }
  },
  "cells": [
    {
      "cell_type": "code",
      "source": [
        "import math\n",
        "import random"
      ],
      "metadata": {
        "id": "m9GATtIrYiHZ"
      },
      "execution_count": null,
      "outputs": []
    },
    {
      "cell_type": "code",
      "execution_count": null,
      "metadata": {
        "id": "EXzNK9TtYW5k"
      },
      "outputs": [],
      "source": [
        "def keyGeneration():\n",
        "  p=int(input('Enter 1st large prime p:'))                  # input the prime p\n",
        "  q=int(input('Enter 2nd large prime q:'))                  # input the prime q\n",
        "  n=p*q                                                     # compute n\n",
        "  phi_n=(p-1)*(q-1)                                         # compute phi_n\n",
        "  e=int(input('Randomly choose e between 1 and phi_n:'))\n",
        "  while(math.gcd(e,phi_n)!=1 and (1<e and e<phi_n)):        # This loop randomly choose e between 1 and phi_n until it is coprime to phi_n\n",
        "    e=int(input('Randomly choose e between 1 and phi_n:'))\n",
        "\n",
        "  k=random.randint(1,1000)\n",
        "  while((k*phi_n+1)%e != 0):                                # This loop randomly select constant k until e properly divides k*phi_n+1\n",
        "    k=random.randint(1,1000)\n",
        "  d=int((k*phi_n+1)/e)                                     # Compute d\n",
        "\n",
        "  return e,n,d"
      ]
    },
    {
      "cell_type": "code",
      "source": [
        "def generate_signature(M,d,n):\n",
        "  S=pow(M,d)%n\n",
        "  return S"
      ],
      "metadata": {
        "id": "HSTFd3D1jgJf"
      },
      "execution_count": null,
      "outputs": []
    },
    {
      "cell_type": "code",
      "source": [
        "def verify_signature(S,M,e,n):\n",
        "  M1=pow(S,e)%n\n",
        "  print('The receiver is now verifying..... It generated the message M1=',M1)\n",
        "  if M == M1:\n",
        "    return True\n",
        "  return False"
      ],
      "metadata": {
        "id": "yu4OeHHVj_ps"
      },
      "execution_count": null,
      "outputs": []
    },
    {
      "cell_type": "code",
      "source": [
        "e=n=d=0\n",
        "e,n,d = keyGeneration()\n",
        "print('e=',e,'n=',n,'d=',d)"
      ],
      "metadata": {
        "colab": {
          "base_uri": "https://localhost:8080/"
        },
        "id": "lmOD4G5NcewS",
        "outputId": "86421a3a-1c75-40e2-bcf6-d0f4c8498a9b"
      },
      "execution_count": null,
      "outputs": [
        {
          "output_type": "stream",
          "name": "stdout",
          "text": [
            "Enter 1st large prime p:823\n",
            "Enter 2nd large prime q:953\n",
            "Randomly choose e between 1 and phi_n:313\n",
            "e= 313 n= 784319 d= 942553\n"
          ]
        }
      ]
    },
    {
      "cell_type": "code",
      "source": [
        "M=int(input('Enter message M to sign:'))\n",
        "S=generate_signature(M,e,n)\n",
        "print('Signature generated')\n",
        "print('Sending signature S=',S,' and message M=',M)\n",
        "res=verify_signature(S,M,d,n)\n",
        "if res==True:\n",
        "  print('Message Accepted...')\n",
        "else:\n",
        "  print('Message Rejected...')"
      ],
      "metadata": {
        "colab": {
          "base_uri": "https://localhost:8080/"
        },
        "id": "k1_uYNmskMKz",
        "outputId": "ff9375b4-fdcb-4faf-f2c6-79d51e399707"
      },
      "execution_count": null,
      "outputs": [
        {
          "output_type": "stream",
          "name": "stdout",
          "text": [
            "Enter message M to sign:19070\n",
            "Signature generated\n",
            "Sending signature S= 561738  and message M= 19070\n",
            "The receiver is now verifying..... It generated the message M1= 19070\n",
            "Message Accepted...\n"
          ]
        }
      ]
    }
  ]
}
{
 "cells": [
  {
   "cell_type": "code",
   "execution_count": 2,
   "id": "6b0b0cf0-8710-4518-8f6b-aa01bfbdcaea",
   "metadata": {},
   "outputs": [],
   "source": [
    "import math\n",
    "import random"
   ]
  },
  {
   "cell_type": "code",
   "execution_count": 5,
   "id": "c0cb4680-352a-4654-9909-9b7245f63064",
   "metadata": {},
   "outputs": [],
   "source": [
    "def keyGeneration():\n",
    "    p = 5\n",
    "    q = 7\n",
    "    n = p*q\n",
    "    phi_n = (p-1)*(q-1)\n",
    "    e = 33\n",
    "    while(math.gcd(e,phi_n)!=1 and (1<e and e<phi_n)):\n",
    "        e = int(input(\"Randomly choose e between 1 and phi_n\"))\n",
    "    k = random.randint(1, 100)\n",
    "    while((k*phi_n+1)%e != 0):\n",
    "        k = random.randint(1, 100)\n",
    "    d = int((k*phi_n+1)/e)\n",
    "\n",
    "    return e, n, d\n"
   ]
  },
  {
   "cell_type": "code",
   "execution_count": 6,
   "id": "df9f64f0-328a-489e-ba32-609bdbc37ee6",
   "metadata": {},
   "outputs": [],
   "source": [
    "def encrypt(P, e, n):\n",
    "    C = pow(P, e) % n\n",
    "    return C\n",
    "\n",
    "def decrypt(C, d, n):\n",
    "    P = pow(C, d)%n\n",
  "    return P\n",
    ")"
   ]
  },
  {
   "cell_type": "code",
   "execution_count": null,
   "id": "814e1f94-51bd-4754-be09-dd569e3d7663",
   "metadata": {},
   "outputs": [],
   "source": [
    "keyGeneration()"
   ]
  },
  {
   "cell_type": "code",
   "execution_count": null,
   "id": "8d1fd701-9817-48d4-822f-4226c8ab7ea3",
   "metadata": {},
   "outputs": [],
   "source": []
  }
 ],
 "metadata": {
  "kernelspec": {
   "display_name": "Python 3 (ipykernel)",
   "language": "python",
   "name": "python3"
  },
  "language_info": {
   "codemirror_mode": {
    "name": "ipython",
    "version": 3
   },
   "file_extension": ".py",
   "mimetype": "text/x-python",
   "name": "python",
   "nbconvert_exporter": "python",
   "pygments_lexer": "ipython3",
   "version": "3.8.10"
  }
 },
 "nbformat": 4,
 "nbformat_minor": 5
}

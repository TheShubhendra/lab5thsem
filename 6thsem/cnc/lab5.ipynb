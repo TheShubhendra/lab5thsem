{
 "cells": [
  {
   "cell_type": "code",
   "execution_count": 1,
   "id": "1bbfdc7f-5422-4bbe-944d-65f3dd6f53e3",
   "metadata": {},
   "outputs": [
    {
     "name": "stdout",
     "output_type": "stream",
     "text": [
      "Requirement already satisfied: pycryptodome in /home/student/.local/lib/python3.8/site-packages (3.22.0)\n"
     ]
    }
   ],
   "source": [
    "!pip install pycryptodome"
   ]
  },
  {
   "cell_type": "code",
   "execution_count": 1,
   "id": "d3cc9f91-b942-4a05-a37c-1549bc6bde91",
   "metadata": {},
   "outputs": [],
   "source": [
    "from Crypto.Cipher import DES\n",
    "import binascii"
   ]
  },
  {
   "cell_type": "code",
   "execution_count": 13,
   "id": "94a649bd-2616-43bf-a084-616739dfc868",
   "metadata": {},
   "outputs": [],
   "source": [
    "def encryption(des, P, key):\n",
    "    while (len(P)%8 != 0):\n",
    "        P += \" \"\n",
    "    P = P.encode()\n",
    "    C = des.encrypt(P)\n",
    "    C = binascii.hexlify(C)\n",
    "    return C"
   ]
  },
  {
   "cell_type": "code",
   "execution_count": 3,
   "id": "29ada41a-93d8-4533-8bda-90f109779770",
   "metadata": {},
   "outputs": [],
   "source": [
    "def decryption(des, C, key):\n",
    "    c = binascii.unhexlify(C)\n",
    "    P1 = des.decrypt(c)\n",
    "    P1 = P1.decode().strip()abcdefghabcdefgh\n",
    "    return P1abcdefgh"
   ]
  },
  {
   "cell_type": "code",
   "execution_count": 14,
   "id": "ab0bfe53-3cf6-4283-9992-f9b3b64d0504",
   "metadata": {},
   "outputs": [
    {
     "name": "stdout",
     "output_type": "stream",
     "text": [
      "Plaintext is:  hello\n",
      "b'0da7e97bb16c05db'\n"
     ]
    }
   ],
   "source": [
    "key = \"1010000010\" #input(\"Enter key: \")\n",
    "P  = \"10010111\" #input(\"Enter plaintext: \")\n",
    "print(\"Plaintext is: \", P)\n",
    "key = key.encode()\n",
    "des = DES.new(key, DES.MODE_ECB)\n",
    "C = encryption(des, P, key)\n",
    "print(C)"
   ]
  },
  {
   "cell_type": "code",
   "execution_count": 15,
   "id": "4080bc06-ac6f-4577-a825-da8b1935f6d7",
   "metadata": {},
   "outputs": [
    {
     "name": "stdout",
     "output_type": "stream",
     "text": [
      "hello\n"
     ]
    }
   ],
   "source": [
    "P  = decryption(des, C, key)\n",
    "print(P)"
   ]
  },
  {
   "cell_type": "code",
   "execution_count": 6,
   "id": "963a8c55-bfc7-45e5-ab3e-c3b3f3769c80",
   "metadata": {},
   "outputs": [
    {
     "ename": "NameError",
     "evalue": "name 'des_cipher' is not defined",
     "output_type": "error",
     "traceback": [
      "\u001b[0;31m---------------------------------------------------------------------------\u001b[0m",
      "\u001b[0;31mNameError\u001b[0m                                 Traceback (most recent call last)",
      "Cell \u001b[0;32mIn[6], line 1\u001b[0m\n\u001b[0;32m----> 1\u001b[0m C \u001b[38;5;241m=\u001b[39m encryption(\u001b[43mdes_cipher\u001b[49m, P, key)\n",
      "\u001b[0;31mNameError\u001b[0m: name 'des_cipher' is not defined"
     ]
    }
   ],
   "source": [
    "C = encryption(des_cipher, P, key)"
   ]
  }
 ],
 "metadata": {
  "kernelspec": {
   "display_name": "Python 3 (ipykernel)",
   "language": "python",
   "name": "python3"
  },
  "language_info": {
   "codemirror_mode": {
    "name": "ipython",
    "version": 3
   },
   "file_extension": ".py",
   "mimetype": "text/x-python",
   "name": "python",
   "nbconvert_exporter": "python",
   "pygments_lexer": "ipython3",
   "version": "3.8.10"
  }
 },
 "nbformat": 4,
 "nbformat_minor": 5
}

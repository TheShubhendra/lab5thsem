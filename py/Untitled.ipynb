{
 "cells": [
  {
   "cell_type": "markdown",
   "id": "4d3e1c5a-04d1-406e-8b7f-8edb46f082fc",
   "metadata": {},
   "source": [
    "# number1 = int(input(\"Enter first integer: \"))\n",
    "number2 = int(input(\"Enter second integer: \"))\n",
    "total = number1 + number2\n",
    "print(f\"The sum of {number1} and {number2} is {total}\")"
   ]
  },
  {
   "cell_type": "code",
   "execution_count": 6,
   "id": "7eaa6548-568f-4cba-8f8b-d28e8781f1d6",
   "metadata": {},
   "outputs": [
    {
     "name": "stdout",
     "output_type": "stream",
     "text": [
      "Requirement already satisfied: numpy in /usr/lib/python3/dist-packages (1.17.4)\n",
      "Requirement already satisfied: matplotlib in /usr/lib/python3/dist-packages (3.1.2)\n",
      "Requirement already satisfied: pandas in /usr/lib/python3/dist-packages (0.25.3)\n"
     ]
    }
   ],
   "source": [
    "import numpy as np\n",
    "import pandas as pd\n"
   ]
  },
  {
   "cell_type": "markdown",
   "id": "e1854c86-633a-480c-b735-ccdf55b55c1f",
   "metadata": {},
   "source": [
    "number1 = int(input(\"Enter first integer: \"))\n",
    "number2 = int(input(\"Enter second integer: \"))\n",
    "total = number1 + number2\n",
    "\n",
    "print(f\"Sum of {number1} and {number2} is {total}\")\n"
   ]
  },
  {
   "cell_type": "code",
   "execution_count": null,
   "id": "d4aaa812-595e-4932-959c-6b911aed837c",
   "metadata": {},
   "outputs": [],
   "source": []
  }
 ],
 "metadata": {
  "kernelspec": {
   "display_name": "Python 3 (ipykernel)",
   "language": "python",
   "name": "python3"
  },
  "language_info": {
   "codemirror_mode": {
    "name": "ipython",
    "version": 3
   },
   "file_extension": ".py",
   "mimetype": "text/x-python",
   "name": "python",
   "nbconvert_exporter": "python",
   "pygments_lexer": "ipython3",
   "version": "3.8.10"
  }
 },
 "nbformat": 4,
 "nbformat_minor": 5
}
